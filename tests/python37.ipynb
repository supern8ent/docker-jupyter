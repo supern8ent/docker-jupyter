{
 "cells": [
  {
   "cell_type": "markdown",
   "metadata": {},
   "source": [
    "# Python 37\n",
    "\n",
    "This notebook tests python stuff"
   ]
  },
  {
   "cell_type": "markdown",
   "metadata": {},
   "source": [
    "## Pandas basics\n",
    "\n",
    "Should import and be able to plot something. Also save and read important file formats."
   ]
  },
  {
   "cell_type": "code",
   "execution_count": null,
   "metadata": {},
   "outputs": [],
   "source": [
    "import pandas as pd\n",
    "import numpy as np\n",
    "\n",
    "ts = pd.Series(np.random.randn(1000),\n",
    "               index=pd.date_range('1/1/2000', periods=1000))\n",
    "\n",
    "ts = ts.cumsum()\n",
    "ts.plot()"
   ]
  },
  {
   "cell_type": "code",
   "execution_count": null,
   "metadata": {
    "collapsed": false,
    "jupyter": {
     "outputs_hidden": false
    },
    "pycharm": {
     "name": "#%%\n"
    }
   },
   "outputs": [],
   "source": [
    "df0 = pd.DataFrame(\n",
    "{'datetime': {0: pd.to_datetime('2020-04-03 09:03:15.620000'),\n",
    "  1: pd.to_datetime('2020-04-02 09:03:16'),\n",
    "  2: pd.to_datetime('2020-04-01 09:03:16'),\n",
    "  3: pd.to_datetime('2020-04-08 09:05:16'),\n",
    "  4: pd.to_datetime('2020-04-03 08:00:16')},\n",
    " 'sex': {0: 'F', 1: 'M', 2: 'M', 3: 'F', 4: 'M'},\n",
    " 'n_seen_int': {0: 3, 1: 1, 2: 0, 3: 15, 4: 7},\n",
    " 'pref_float': {0: 2.6, 1: 1.1, 2: 9.0, 3: 3.14159, 4: 15.0}})\n",
    "\n",
    "pandas_file_formats = [\n",
    "    ('.xlsx', pd.DataFrame.to_excel, dict(), pd.read_excel, dict(index_col=0)),\n",
    "    ('.feather', pd.DataFrame.to_feather, dict(), pd.read_feather, dict()),\n",
    "    ('.h5', pd.DataFrame.to_hdf, dict(key='data', mode='w'), pd.read_hdf, dict())\n",
    "]\n",
    "for ext, writer, writer_args, reader, reader_args in pandas_file_formats:\n",
    "    writer(df0, '/tmp/df0'+ext, **writer_args)\n",
    "    df1 = reader('/tmp/df0'+ext, **reader_args)\n",
    "    assert (df0 == df1).all().all(), f'Writing then reading dataframe{ext} did not preserve data integrity'\n",
    "    assert (df0.dtypes == df1.dtypes).all(), f'Writing then reading dataframe{ext} did not preserve col dtypes'\n",
    "\n",
    "# Sadly, xls format seems to lose datetime resolution sometimes. Here check for just datatime within 1s.\n",
    "df0.to_excel('/tmp/df0.xls')\n",
    "df1 = pd.read_excel('/tmp/df0.xls', index_col=0)\n",
    "check_datetimes = ((df1['datetime'] - df0['datetime']).apply(lambda dt: dt.total_seconds()) <= 1.0).all()\n",
    "assert check_datetimes, f'Writing then reading {fmt} did not preserve datetimes'\n",
    "assert (df0.iloc[:, 1:] == df1.iloc[:, 1:]).all().all(), f'Writing then reading {fmt} did not preserve data integrity'\n",
    "assert (df0.iloc[:, 1:].dtypes == df1.iloc[:, 1:].dtypes).all(), f'Writing then reading {fmt} did not preserve col dtypes'"
   ]
  },
  {
   "cell_type": "markdown",
   "metadata": {},
   "source": [
    "## Numpy basics"
   ]
  },
  {
   "cell_type": "code",
   "execution_count": null,
   "metadata": {},
   "outputs": [],
   "source": [
    "import numpy as np\n",
    "\n",
    "np.random.seed(42)\n",
    "A = np.random.randint(5, size=(4,3))\n",
    "b = np.random.randint(5, size=(4, 1))\n",
    "\n",
    "assert (A * b == np.array([[12, 16,  8], [4,  4,  1], [6,  6,  6], [4,  3,  2]])).all()"
   ]
  },
  {
   "cell_type": "markdown",
   "metadata": {
    "pycharm": {
     "name": "#%% md\n"
    }
   },
   "source": [
    "## Matplotlib"
   ]
  },
  {
   "cell_type": "code",
   "execution_count": null,
   "metadata": {
    "collapsed": false,
    "jupyter": {
     "outputs_hidden": false
    },
    "pycharm": {
     "name": "#%%\n"
    }
   },
   "outputs": [],
   "source": [
    "import matplotlib.pyplot as plt\n",
    "%matplotlib inline\n",
    "\n",
    "fig, ax = plt.subplots(1, 1)\n",
    "ax.plot([0, 2, 4, 6, 8], [0, 4, 16, 36, 64])"
   ]
  },
  {
   "cell_type": "markdown",
   "metadata": {
    "pycharm": {
     "name": "#%% md\n"
    }
   },
   "source": [
    "## Seaborn basics"
   ]
  },
  {
   "cell_type": "code",
   "execution_count": null,
   "metadata": {
    "pycharm": {
     "name": "#%%\n"
    }
   },
   "outputs": [],
   "source": [
    "import seaborn as sns\n",
    "\n",
    "df0 = pd.DataFrame(\n",
    "{'n_seen_int': {0: 3, 1: 1, 2: 0, 3: 15, 4: 7},\n",
    " 'pref_float': {0: 2.6, 1: 1.1, 2: 9.0, 3: 3.14159, 4: 15.0}})\n",
    "\n",
    "sns.relplot(x=\"n_seen_int\", y=\"pref_float\", data=df0);"
   ]
  },
  {
   "cell_type": "markdown",
   "metadata": {
    "pycharm": {
     "name": "#%% md\n"
    }
   },
   "source": [
    "## Bokeh basics"
   ]
  },
  {
   "cell_type": "raw",
   "metadata": {},
   "source": [
    "from bokeh.plotting import figure, output_file, show\n",
    "\n",
    "# prepare some data\n",
    "x = [1, 2, 3, 4, 5]\n",
    "y = [6, 7, 2, 4, 5]\n",
    "\n",
    "# output to static HTML file\n",
    "output_file(\"lines.html\")\n",
    "\n",
    "# create a new plot with a title and axis labels\n",
    "p = figure(title=\"simple line example\", x_axis_label='x', y_axis_label='y')\n",
    "\n",
    "# add a line renderer with legend and line thickness\n",
    "p.line(x, y, legend_label=\"Temp.\", line_width=2)\n",
    "\n",
    "# show the results\n",
    "show(p)"
   ]
  },
  {
   "cell_type": "markdown",
   "metadata": {},
   "source": [
    "## Scikit-learn basics\n",
    "\n",
    "Uses https://scikit-learn.org/dev/auto_examples/ensemble/plot_gradient_boosting_regression.html#sphx-glr-auto-examples-ensemble-plot-gradient-boosting-regression-py to check basics work."
   ]
  },
  {
   "cell_type": "raw",
   "metadata": {},
   "source": [
    "import numpy as np\n",
    "import matplotlib.pyplot as plt\n",
    "\n",
    "from sklearn import ensemble\n",
    "from sklearn import datasets\n",
    "from sklearn.utils import shuffle\n",
    "from sklearn.metrics import mean_squared_error\n",
    "\n",
    "# #############################################################################\n",
    "# Load data\n",
    "boston = datasets.load_boston()\n",
    "X, y = shuffle(boston.data, boston.target, random_state=13)\n",
    "X = X.astype(np.float32)\n",
    "offset = int(X.shape[0] * 0.9)\n",
    "X_train, y_train = X[:offset], y[:offset]\n",
    "X_test, y_test = X[offset:], y[offset:]\n",
    "\n",
    "# #############################################################################\n",
    "# Fit regression model\n",
    "params = {'n_estimators': 500, 'max_depth': 4, 'min_samples_split': 2,\n",
    "          'learning_rate': 0.01, 'loss': 'ls'}\n",
    "clf = ensemble.GradientBoostingRegressor(**params)\n",
    "\n",
    "clf.fit(X_train, y_train)\n",
    "mse = mean_squared_error(y_test, clf.predict(X_test))\n",
    "print(\"MSE: %.4f\" % mse)"
   ]
  },
  {
   "cell_type": "markdown",
   "metadata": {},
   "source": [
    "## cython basics\n",
    "\n",
    "Can we compile a short bit of cython?"
   ]
  },
  {
   "cell_type": "raw",
   "metadata": {
    "jupyter": {
     "outputs_hidden": false
    },
    "pycharm": {
     "name": "#%%\n"
    }
   },
   "source": [
    "%load_ext Cython"
   ]
  },
  {
   "cell_type": "raw",
   "metadata": {
    "jupyter": {
     "outputs_hidden": false
    },
    "pycharm": {
     "name": "#%%\n"
    }
   },
   "source": [
    "%%cython\n",
    "\n",
    "cdef int a = 0\n",
    "for i in range(10):\n",
    "    a += i\n",
    "\n",
    "assert a == 45, a"
   ]
  },
  {
   "cell_type": "markdown",
   "metadata": {},
   "source": [
    "## Sympy"
   ]
  },
  {
   "cell_type": "raw",
   "metadata": {
    "jupyter": {
     "outputs_hidden": false
    },
    "pycharm": {
     "name": "#%%\n"
    }
   },
   "source": [
    "from sympy import symbols\n",
    "\n",
    "x, y = symbols('x y')\n",
    "\n",
    "expr = x + 2*y\n",
    "\n",
    "expr"
   ]
  },
  {
   "cell_type": "raw",
   "metadata": {
    "jupyter": {
     "outputs_hidden": false
    },
    "pycharm": {
     "name": "#%%\n"
    }
   },
   "source": [
    "assert str(expr) == 'x + 2*y', expr"
   ]
  }
 ],
 "metadata": {
  "kernelspec": {
   "display_name": "Python 3",
   "language": "python",
   "name": "python3"
  },
  "language_info": {
   "codemirror_mode": {
    "name": "ipython",
    "version": 3
   },
   "file_extension": ".py",
   "mimetype": "text/x-python",
   "name": "python",
   "nbconvert_exporter": "python",
   "pygments_lexer": "ipython3",
   "version": "3.7.2"
  }
 },
 "nbformat": 4,
 "nbformat_minor": 4
}
